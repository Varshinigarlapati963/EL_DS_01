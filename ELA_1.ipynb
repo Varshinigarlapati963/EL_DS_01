{
  "nbformat": 4,
  "nbformat_minor": 0,
  "metadata": {
    "colab": {
      "provenance": []
    },
    "kernelspec": {
      "name": "python3",
      "display_name": "Python 3"
    },
    "language_info": {
      "name": "python"
    }
  },
  "cells": [
    {
      "cell_type": "markdown",
      "source": [
        "Data Cleaning and Prepocessing"
      ],
      "metadata": {
        "id": "h-0i5p2OLVlt"
      }
    },
    {
      "cell_type": "markdown",
      "source": [
        "1.Import required libraries for cleaning a dataset.\n",
        "pandas->for creating dataframe.\n",
        "using pandas import blinkit grocery data."
      ],
      "metadata": {
        "id": "3lrGqfc2J8vj"
      }
    },
    {
      "cell_type": "code",
      "execution_count": 20,
      "metadata": {
        "id": "7VJuFMMsDsJ8",
        "colab": {
          "base_uri": "https://localhost:8080/",
          "height": 0
        },
        "outputId": "84188434-2bf7-458f-9692-4c9e3bc1cf01"
      },
      "outputs": [
        {
          "output_type": "stream",
          "name": "stdout",
          "text": [
            "     Item Fat Content Item Identifier              Item Type  \\\n",
            "0             Regular           FDX32  Fruits and Vegetables   \n",
            "1             Low Fat           NCB42     Health and Hygiene   \n",
            "2             Regular           FDR28           Frozen Foods   \n",
            "3             Regular           FDL50                 Canned   \n",
            "4             Low Fat           DRI25            Soft Drinks   \n",
            "...               ...             ...                    ...   \n",
            "8518          low fat           NCT53     Health and Hygiene   \n",
            "8519          low fat           FDN09            Snack Foods   \n",
            "8520          low fat           DRE13            Soft Drinks   \n",
            "8521              reg           FDT50                  Dairy   \n",
            "8522              reg           FDM58            Snack Foods   \n",
            "\n",
            "      Outlet Establishment Year Outlet Identifier Outlet Location Type  \\\n",
            "0                          2012            OUT049               Tier 1   \n",
            "1                          2022            OUT018               Tier 3   \n",
            "2                          2016            OUT046               Tier 1   \n",
            "3                          2014            OUT013               Tier 3   \n",
            "4                          2015            OUT045               Tier 2   \n",
            "...                         ...               ...                  ...   \n",
            "8518                       2018            OUT027               Tier 3   \n",
            "8519                       2018            OUT027               Tier 3   \n",
            "8520                       2018            OUT027               Tier 3   \n",
            "8521                       2018            OUT027               Tier 3   \n",
            "8522                       2018            OUT027               Tier 3   \n",
            "\n",
            "     Outlet Size        Outlet Type  Item Visibility  Item Weight     Sales  \\\n",
            "0         Medium  Supermarket Type1         0.100014        15.10  145.4786   \n",
            "1         Medium  Supermarket Type2         0.008596        11.80  115.3492   \n",
            "2          Small  Supermarket Type1         0.025896        13.85  165.0210   \n",
            "3           High  Supermarket Type1         0.042278        12.15  126.5046   \n",
            "4          Small  Supermarket Type1         0.033970        19.60   55.1614   \n",
            "...          ...                ...              ...          ...       ...   \n",
            "8518      Medium  Supermarket Type3         0.000000          NaN  164.5526   \n",
            "8519      Medium  Supermarket Type3         0.034706          NaN  241.6828   \n",
            "8520      Medium  Supermarket Type3         0.027571          NaN   86.6198   \n",
            "8521      Medium  Supermarket Type3         0.107715          NaN   97.8752   \n",
            "8522      Medium  Supermarket Type3         0.000000          NaN  112.2544   \n",
            "\n",
            "      Rating  \n",
            "0        5.0  \n",
            "1        5.0  \n",
            "2        5.0  \n",
            "3        5.0  \n",
            "4        5.0  \n",
            "...      ...  \n",
            "8518     4.0  \n",
            "8519     4.0  \n",
            "8520     4.0  \n",
            "8521     4.0  \n",
            "8522     4.0  \n",
            "\n",
            "[8523 rows x 12 columns]\n"
          ]
        }
      ],
      "source": [
        "import pandas as pd\n",
        "df=pd.read_csv('BlinkIT-Grocery-Data.csv')\n",
        "print(df)"
      ]
    },
    {
      "cell_type": "markdown",
      "source": [
        "2.check for any duplicates values is there or not."
      ],
      "metadata": {
        "id": "4OTotNnFLIW5"
      }
    },
    {
      "cell_type": "code",
      "source": [
        "duplicates=df.duplicated().sum()\n",
        "null_data=df.isnull().sum()\n",
        "print('Duplicates:',duplicates)\n",
        "print(null_data)"
      ],
      "metadata": {
        "colab": {
          "base_uri": "https://localhost:8080/",
          "height": 0
        },
        "id": "Q61a932LEpIw",
        "outputId": "79822c55-404d-49a4-e2e9-6ab59578a6a2"
      },
      "execution_count": 21,
      "outputs": [
        {
          "output_type": "stream",
          "name": "stdout",
          "text": [
            "Duplicates: 0\n",
            "Item Fat Content                0\n",
            "Item Identifier                 0\n",
            "Item Type                       0\n",
            "Outlet Establishment Year       0\n",
            "Outlet Identifier               0\n",
            "Outlet Location Type            0\n",
            "Outlet Size                     0\n",
            "Outlet Type                     0\n",
            "Item Visibility                 0\n",
            "Item Weight                  1463\n",
            "Sales                           0\n",
            "Rating                          0\n",
            "dtype: int64\n"
          ]
        }
      ]
    },
    {
      "cell_type": "markdown",
      "source": [
        "3.There are no duplicates.\n",
        "  There are null values in Item Weight column.we are filling it mean value.\n",
        "\n"
      ],
      "metadata": {
        "id": "wUAjnDYcMY40"
      }
    },
    {
      "cell_type": "code",
      "source": [
        "df.fillna(df['Item Weight'].mean(),inplace=True)\n",
        "print(df)"
      ],
      "metadata": {
        "colab": {
          "base_uri": "https://localhost:8080/",
          "height": 0
        },
        "id": "1fQrJVKJEXh-",
        "outputId": "68bd4f97-c85e-4dde-8b8c-ac5c6d234fca"
      },
      "execution_count": 22,
      "outputs": [
        {
          "output_type": "stream",
          "name": "stdout",
          "text": [
            "     Item Fat Content Item Identifier              Item Type  \\\n",
            "0             Regular           FDX32  Fruits and Vegetables   \n",
            "1             Low Fat           NCB42     Health and Hygiene   \n",
            "2             Regular           FDR28           Frozen Foods   \n",
            "3             Regular           FDL50                 Canned   \n",
            "4             Low Fat           DRI25            Soft Drinks   \n",
            "...               ...             ...                    ...   \n",
            "8518          low fat           NCT53     Health and Hygiene   \n",
            "8519          low fat           FDN09            Snack Foods   \n",
            "8520          low fat           DRE13            Soft Drinks   \n",
            "8521              reg           FDT50                  Dairy   \n",
            "8522              reg           FDM58            Snack Foods   \n",
            "\n",
            "      Outlet Establishment Year Outlet Identifier Outlet Location Type  \\\n",
            "0                          2012            OUT049               Tier 1   \n",
            "1                          2022            OUT018               Tier 3   \n",
            "2                          2016            OUT046               Tier 1   \n",
            "3                          2014            OUT013               Tier 3   \n",
            "4                          2015            OUT045               Tier 2   \n",
            "...                         ...               ...                  ...   \n",
            "8518                       2018            OUT027               Tier 3   \n",
            "8519                       2018            OUT027               Tier 3   \n",
            "8520                       2018            OUT027               Tier 3   \n",
            "8521                       2018            OUT027               Tier 3   \n",
            "8522                       2018            OUT027               Tier 3   \n",
            "\n",
            "     Outlet Size        Outlet Type  Item Visibility  Item Weight     Sales  \\\n",
            "0         Medium  Supermarket Type1         0.100014    15.100000  145.4786   \n",
            "1         Medium  Supermarket Type2         0.008596    11.800000  115.3492   \n",
            "2          Small  Supermarket Type1         0.025896    13.850000  165.0210   \n",
            "3           High  Supermarket Type1         0.042278    12.150000  126.5046   \n",
            "4          Small  Supermarket Type1         0.033970    19.600000   55.1614   \n",
            "...          ...                ...              ...          ...       ...   \n",
            "8518      Medium  Supermarket Type3         0.000000    12.857645  164.5526   \n",
            "8519      Medium  Supermarket Type3         0.034706    12.857645  241.6828   \n",
            "8520      Medium  Supermarket Type3         0.027571    12.857645   86.6198   \n",
            "8521      Medium  Supermarket Type3         0.107715    12.857645   97.8752   \n",
            "8522      Medium  Supermarket Type3         0.000000    12.857645  112.2544   \n",
            "\n",
            "      Rating  \n",
            "0        5.0  \n",
            "1        5.0  \n",
            "2        5.0  \n",
            "3        5.0  \n",
            "4        5.0  \n",
            "...      ...  \n",
            "8518     4.0  \n",
            "8519     4.0  \n",
            "8520     4.0  \n",
            "8521     4.0  \n",
            "8522     4.0  \n",
            "\n",
            "[8523 rows x 12 columns]\n"
          ]
        }
      ]
    },
    {
      "cell_type": "markdown",
      "source": [
        "4.After filling once again verifying the null values and duplicates."
      ],
      "metadata": {
        "id": "F7xR7Xr2M8M3"
      }
    },
    {
      "cell_type": "code",
      "source": [
        "duplicates=df.duplicated().sum()\n",
        "null_data=df.isnull().sum()\n",
        "print('duplicates:',duplicates)\n",
        "print(null_data)"
      ],
      "metadata": {
        "colab": {
          "base_uri": "https://localhost:8080/",
          "height": 0
        },
        "id": "toDCzL1fGjUW",
        "outputId": "f044a73c-7480-4d7d-a425-1e12c3ec5fb5"
      },
      "execution_count": 23,
      "outputs": [
        {
          "output_type": "stream",
          "name": "stdout",
          "text": [
            "duplicates: 0\n",
            "Item Fat Content             0\n",
            "Item Identifier              0\n",
            "Item Type                    0\n",
            "Outlet Establishment Year    0\n",
            "Outlet Identifier            0\n",
            "Outlet Location Type         0\n",
            "Outlet Size                  0\n",
            "Outlet Type                  0\n",
            "Item Visibility              0\n",
            "Item Weight                  0\n",
            "Sales                        0\n",
            "Rating                       0\n",
            "dtype: int64\n"
          ]
        }
      ]
    },
    {
      "cell_type": "markdown",
      "source": [
        "5.replacing 'lowfat','LF' with 'Low Fat' and 'reg' with 'Regular'."
      ],
      "metadata": {
        "id": "aWGHlCgHNTt1"
      }
    },
    {
      "cell_type": "code",
      "source": [
        "df.replace({'LF':'Low Fat','low fat': 'Low Fat'},inplace=True)\n",
        "df.replace({'reg':'Regular'},inplace=True)\n",
        "print(df)"
      ],
      "metadata": {
        "colab": {
          "base_uri": "https://localhost:8080/",
          "height": 0
        },
        "id": "P5Vg49KyFQ6l",
        "outputId": "8ec3d93c-75be-45c5-b2ba-c402b377eb8c"
      },
      "execution_count": 24,
      "outputs": [
        {
          "output_type": "stream",
          "name": "stdout",
          "text": [
            "     Item Fat Content Item Identifier              Item Type  \\\n",
            "0             Regular           FDX32  Fruits and Vegetables   \n",
            "1             Low Fat           NCB42     Health and Hygiene   \n",
            "2             Regular           FDR28           Frozen Foods   \n",
            "3             Regular           FDL50                 Canned   \n",
            "4             Low Fat           DRI25            Soft Drinks   \n",
            "...               ...             ...                    ...   \n",
            "8518          Low Fat           NCT53     Health and Hygiene   \n",
            "8519          Low Fat           FDN09            Snack Foods   \n",
            "8520          Low Fat           DRE13            Soft Drinks   \n",
            "8521          Regular           FDT50                  Dairy   \n",
            "8522          Regular           FDM58            Snack Foods   \n",
            "\n",
            "      Outlet Establishment Year Outlet Identifier Outlet Location Type  \\\n",
            "0                          2012            OUT049               Tier 1   \n",
            "1                          2022            OUT018               Tier 3   \n",
            "2                          2016            OUT046               Tier 1   \n",
            "3                          2014            OUT013               Tier 3   \n",
            "4                          2015            OUT045               Tier 2   \n",
            "...                         ...               ...                  ...   \n",
            "8518                       2018            OUT027               Tier 3   \n",
            "8519                       2018            OUT027               Tier 3   \n",
            "8520                       2018            OUT027               Tier 3   \n",
            "8521                       2018            OUT027               Tier 3   \n",
            "8522                       2018            OUT027               Tier 3   \n",
            "\n",
            "     Outlet Size        Outlet Type  Item Visibility  Item Weight     Sales  \\\n",
            "0         Medium  Supermarket Type1         0.100014    15.100000  145.4786   \n",
            "1         Medium  Supermarket Type2         0.008596    11.800000  115.3492   \n",
            "2          Small  Supermarket Type1         0.025896    13.850000  165.0210   \n",
            "3           High  Supermarket Type1         0.042278    12.150000  126.5046   \n",
            "4          Small  Supermarket Type1         0.033970    19.600000   55.1614   \n",
            "...          ...                ...              ...          ...       ...   \n",
            "8518      Medium  Supermarket Type3         0.000000    12.857645  164.5526   \n",
            "8519      Medium  Supermarket Type3         0.034706    12.857645  241.6828   \n",
            "8520      Medium  Supermarket Type3         0.027571    12.857645   86.6198   \n",
            "8521      Medium  Supermarket Type3         0.107715    12.857645   97.8752   \n",
            "8522      Medium  Supermarket Type3         0.000000    12.857645  112.2544   \n",
            "\n",
            "      Rating  \n",
            "0        5.0  \n",
            "1        5.0  \n",
            "2        5.0  \n",
            "3        5.0  \n",
            "4        5.0  \n",
            "...      ...  \n",
            "8518     4.0  \n",
            "8519     4.0  \n",
            "8520     4.0  \n",
            "8521     4.0  \n",
            "8522     4.0  \n",
            "\n",
            "[8523 rows x 12 columns]\n"
          ]
        }
      ]
    },
    {
      "cell_type": "code",
      "source": [
        "df.info()"
      ],
      "metadata": {
        "colab": {
          "base_uri": "https://localhost:8080/"
        },
        "id": "DO0_0lkXQJ9w",
        "outputId": "66d34df6-cee0-45e1-b718-e3e42c087ddd"
      },
      "execution_count": 25,
      "outputs": [
        {
          "output_type": "stream",
          "name": "stdout",
          "text": [
            "<class 'pandas.core.frame.DataFrame'>\n",
            "RangeIndex: 8523 entries, 0 to 8522\n",
            "Data columns (total 12 columns):\n",
            " #   Column                     Non-Null Count  Dtype  \n",
            "---  ------                     --------------  -----  \n",
            " 0   Item Fat Content           8523 non-null   object \n",
            " 1   Item Identifier            8523 non-null   object \n",
            " 2   Item Type                  8523 non-null   object \n",
            " 3   Outlet Establishment Year  8523 non-null   int64  \n",
            " 4   Outlet Identifier          8523 non-null   object \n",
            " 5   Outlet Location Type       8523 non-null   object \n",
            " 6   Outlet Size                8523 non-null   object \n",
            " 7   Outlet Type                8523 non-null   object \n",
            " 8   Item Visibility            8523 non-null   float64\n",
            " 9   Item Weight                8523 non-null   float64\n",
            " 10  Sales                      8523 non-null   float64\n",
            " 11  Rating                     8523 non-null   float64\n",
            "dtypes: float64(4), int64(1), object(7)\n",
            "memory usage: 799.2+ KB\n"
          ]
        }
      ]
    },
    {
      "cell_type": "code",
      "source": [
        "df.to_csv('blinkit_cleaned.csv', index=False)\n"
      ],
      "metadata": {
        "id": "qwFEHHNtRnyJ"
      },
      "execution_count": 26,
      "outputs": []
    },
    {
      "cell_type": "code",
      "source": [
        "from google.colab import files\n",
        "files.download('blinkit_cleaned.csv')\n"
      ],
      "metadata": {
        "colab": {
          "base_uri": "https://localhost:8080/",
          "height": 17
        },
        "id": "oOw1vtXJRxRM",
        "outputId": "0815826b-a45a-43cf-ae84-bcc2a88bbf8c"
      },
      "execution_count": 27,
      "outputs": [
        {
          "output_type": "display_data",
          "data": {
            "text/plain": [
              "<IPython.core.display.Javascript object>"
            ],
            "application/javascript": [
              "\n",
              "    async function download(id, filename, size) {\n",
              "      if (!google.colab.kernel.accessAllowed) {\n",
              "        return;\n",
              "      }\n",
              "      const div = document.createElement('div');\n",
              "      const label = document.createElement('label');\n",
              "      label.textContent = `Downloading \"${filename}\": `;\n",
              "      div.appendChild(label);\n",
              "      const progress = document.createElement('progress');\n",
              "      progress.max = size;\n",
              "      div.appendChild(progress);\n",
              "      document.body.appendChild(div);\n",
              "\n",
              "      const buffers = [];\n",
              "      let downloaded = 0;\n",
              "\n",
              "      const channel = await google.colab.kernel.comms.open(id);\n",
              "      // Send a message to notify the kernel that we're ready.\n",
              "      channel.send({})\n",
              "\n",
              "      for await (const message of channel.messages) {\n",
              "        // Send a message to notify the kernel that we're ready.\n",
              "        channel.send({})\n",
              "        if (message.buffers) {\n",
              "          for (const buffer of message.buffers) {\n",
              "            buffers.push(buffer);\n",
              "            downloaded += buffer.byteLength;\n",
              "            progress.value = downloaded;\n",
              "          }\n",
              "        }\n",
              "      }\n",
              "      const blob = new Blob(buffers, {type: 'application/binary'});\n",
              "      const a = document.createElement('a');\n",
              "      a.href = window.URL.createObjectURL(blob);\n",
              "      a.download = filename;\n",
              "      div.appendChild(a);\n",
              "      a.click();\n",
              "      div.remove();\n",
              "    }\n",
              "  "
            ]
          },
          "metadata": {}
        },
        {
          "output_type": "display_data",
          "data": {
            "text/plain": [
              "<IPython.core.display.Javascript object>"
            ],
            "application/javascript": [
              "download(\"download_9a81043b-b460-40e1-8123-45db109bfec5\", \"blinkit_cleaned.csv\", 858322)"
            ]
          },
          "metadata": {}
        }
      ]
    }
  ]
}